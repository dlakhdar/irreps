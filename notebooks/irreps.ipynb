{
 "cells": [
  {
   "cell_type": "code",
   "execution_count": 7,
   "metadata": {},
   "outputs": [],
   "source": [
    "import numpy as np \n",
    "import sympy as sp\n",
    "from copy import copy \n",
    "\n",
    "def initialize_generators(D, symbols_list):\n",
    "\n",
    "    \"\"\"\n",
    "    Initializes a set of generator matrices using symbolic variables.\n",
    "\n",
    "    Parameters:\n",
    "    -----------\n",
    "    D : int\n",
    "        The dimension of the generator matrices \n",
    "        (each matrix will be of size DxD).\n",
    "    \n",
    "    symbols_list : list\n",
    "        A list of symbolic variables that will be used to populate the \n",
    "        matrices.It should have at least `2 * D^2` elements to construct the \n",
    "        required matrices.\n",
    "\n",
    "    Returns:\n",
    "    --------\n",
    "    generators : list of sympy.Matrix\n",
    "        A list containing two DxD symbolic matrices.\n",
    "\n",
    "    Notes:\n",
    "    ------\n",
    "    - The function sequentially populates each matrix with symbols from\n",
    "    `symbols_list`.\n",
    "    - The input `symbols_list` should have sufficient elements; otherwise,\n",
    "    `pop()` will raise an `IndexError`.\n",
    "    - Each generator is stored as a `sympy.Matrix` with complex entries.\n",
    "    \"\"\"\n",
    "\n",
    "    generators = []\n",
    "    symbols_copy = copy(symbols_list)  # Generates x0, x1, ..., x_{d^3-1})\n",
    "    for _ in range(1, 3):\n",
    "        rows = []\n",
    "        for _ in range(D):\n",
    "            cols = []\n",
    "            for _ in range(D):\n",
    "                cols.append(symbols_copy.pop(0))\n",
    "            rows.append(cols)\n",
    "        generators.append(sp.Matrix(rows, type=complex))\n",
    "    return generators\n",
    "\n",
    "\n",
    "def initialize_eigenstates(eigenstates):\n",
    "    \"\"\"\n",
    "    Converts a given set of eigenstates into symbolic SymPy matrices.\n",
    "\n",
    "    Parameters:\n",
    "    -----------\n",
    "    eigenstates : np.ndarray\n",
    "        A NumPy array where each **column** represents an eigenstate.\n",
    "        The shape should be (D, N), where:\n",
    "        - `D` is the dimension of each eigenstate vector.\n",
    "        - `N` is the number of eigenstates.\n",
    "\n",
    "    Returns:\n",
    "    --------\n",
    "    symbolic_eigenstates : list of sympy.Matrix\n",
    "        A list containing symbolic representations of the eigenstates as\n",
    "        `sympy.Matrix` objects.\n",
    "        Each matrix is treated as a complex-valued column vector.\n",
    "\n",
    "    Notes:\n",
    "    ------\n",
    "    - Each eigenstate (a column in `eigenstates`) is converted into a `sympy.Matrix`\n",
    "    of size `(D, 1)`.Assumes that `eigenstates` is well-formed and contains\n",
    "    numeric values before conversion.\n",
    "    - The function does **not** modify the original `eigenstates` array.\n",
    "    \"\"\"\n",
    "\n",
    "    symbolic_eigenstates = []\n",
    "    for j in range(eigenstates.shape[1]):\n",
    "        symbolic_eigenstate = sp.Matrix(eigenstates[:, j],type=complex)\n",
    "        symbolic_eigenstates.append(symbolic_eigenstate)\n",
    "    return symbolic_eigenstates\n",
    "\n",
    "def reassemble_mat_from_sols(D: int, sols: list[dict]) -> sp.Matrix:\n",
    "    \"\"\"\n",
    "    Reconstructs a DxD SymPy matrix from a list of solution dictionaries.\n",
    "\n",
    "    Parameters:\n",
    "    -----------\n",
    "    D : int\n",
    "        The dimension of the square matrix (D x D).\n",
    "    \n",
    "    sols : list of dict\n",
    "        A list where each dictionary represents a partial solution with \n",
    "        symbolic keys (e.g., x0, x1, ...) and their corresponding values.\n",
    "\n",
    "    Returns:\n",
    "    --------\n",
    "    sp.Matrix\n",
    "        A SymPy matrix of size (D x D) with values sorted according to \n",
    "        their symbolic variable indices.\n",
    "\n",
    "    Notes:\n",
    "    ------\n",
    "    - The function merges all dictionaries in `sols` into one.\n",
    "    - It extracts and sorts values based on the numerical index of their\n",
    "      symbolic keys.\n",
    "    - The values are then used to construct a D x D matrix.\n",
    "    - Assumes the number of extracted values matches `D*D`; otherwise, an \n",
    "    error occurs.\n",
    "\n",
    "    Example:\n",
    "    --------\n",
    "    >>> sols = [\n",
    "    ...     {sp.Symbol('x0'): 0.5, sp.Symbol('x1'): 0.0},\n",
    "    ...     {sp.Symbol('x2'): 1.0, sp.Symbol('x3'): -0.5}\n",
    "    ... ]\n",
    "    >>> reassemble_mat_from_sols(2, sols)\n",
    "    Matrix([\n",
    "    [0.5, 0.0],\n",
    "    [1.0, -0.5]\n",
    "    ])\n",
    "    \"\"\"\n",
    "    \n",
    "    merged_dict = {key: value for d in sols for key, value in d.items()}\n",
    "    sorted_dict = sorted(merged_dict.items(),\n",
    "                         key=lambda item: int(str(item[0])[1:]))\n",
    "    sorted_vals = [val for (_, val) in sorted_dict]\n",
    "    return sp.Matrix(D, D, sorted_vals)\n",
    "\n",
    "\n",
    "def form_matrix_irrep_so3(j: int) -> list[sp.Matrix]:\n",
    "    \"\"\"\n",
    "    Constructs the SO(3) irreducible representation (irrep) matrices for a\n",
    "      given spin value j.\n",
    "\n",
    "    Parameters:\n",
    "    -----------\n",
    "    j : int\n",
    "        The total quantum number (j). It determines the\n",
    "        dimension of the representation as D = 2j + 1.\n",
    "\n",
    "    Returns:\n",
    "    --------\n",
    "    list[sp.Matrix]\n",
    "        A list containing the SO(3) generators in matrix form: [J1, J2, J3].\n",
    "        - J1 (J_x): The first generator of the SO(3) algebra.\n",
    "        - J2 (J_y): The second generator of the SO(3) algebra.\n",
    "        - J3 (J_z): The third generator of the SO(3) algebra (diagonal form).\n",
    "\n",
    "    Notes:\n",
    "    ------\n",
    "    - The function first constructs the eigenstates of J3.\n",
    "    - It initializes the generator matrices using symbolic variables.\n",
    "    - It solves for the matrix elements by imposing the SO(3) commutation \n",
    "    relations.\n",
    "    - The solution is reassembled into matrices using \n",
    "    `reassemble_mat_from_sols`.\n",
    "    - The final output consists of the three operators J1, J2, and J3.\n",
    "\n",
    "    Example:\n",
    "    --------\n",
    "    >>> import sympy as sp\n",
    "    >>> J_matrices = form_matrix_irrep_so3(1)\n",
    "    >>> for J in J_matrices:\n",
    "    ...     sp.pprint(J)\n",
    "\n",
    "    This will return the DxD matrices representing the SO(3) Lie algebra\n",
    "    generators for any j in the standard representation.\n",
    "    \"\"\"\n",
    "    \n",
    "    D = int(2*j+1)\n",
    "    js = np.arange(j,-j-1, -1, dtype=complex)\n",
    "    J3 = sp.Matrix(np.diag(js))\n",
    "\n",
    "    # form eigenvectors of J3\n",
    "    eigenstates = np.eye(D, dtype=complex)\n",
    "\n",
    "    # form variables in the generators\n",
    "    num_vars = D**2*2  # Number of variables\n",
    "    # Generate symbols as a flattened list\n",
    "    symbols_list = [*sp.symbols(f'x:{num_vars}')]  # Generates x0, x1, ..., x_{d^3-1}\n",
    "    generators = initialize_generators(D, symbols_list)\n",
    "    symbolic_eigenstates = initialize_eigenstates(eigenstates)\n",
    "    null_ket = sp.Matrix(np.zeros(D, dtype=complex))\n",
    "\n",
    "    for (i, prefactor) in enumerate([2.0, 2.0j]):\n",
    "        \n",
    "        # iterate over all columns, or rather pairs of columns \n",
    "        sols = []\n",
    "        for k, m in enumerate(js):\n",
    "            # eig = symbolic_eigenstates[k]\n",
    "            m_plus1_state, m_minus1_state = null_ket, null_ket\n",
    "            # Check bounds before accessing elements\n",
    "                    # Ensure `i - 1` is valid before accessing it\n",
    "            if k >= 0 and m + 1 <= j:  \n",
    "                prefactor_up = (j * (j + 1) - m * (m + 1))**(1/2)\n",
    "                m_plus1_state = prefactor_up * symbolic_eigenstates[k - 1]\n",
    "\n",
    "            # Ensure `i + 1` is valid before accessing it\n",
    "            if k <= len(js) - 1  and m - 1 >= -j:  \n",
    "                prefactor_down = (j * (j + 1) - m * (m - 1))**(1/2)\n",
    "                m_minus1_state = prefactor_down * symbolic_eigenstates[k + 1]\n",
    "\n",
    "            rhs = -m_plus1_state - m_minus1_state if prefactor == 2.0 else -m_plus1_state + m_minus1_state\n",
    "            symbols = symbols_list[:num_vars//2] if prefactor == 2.0 else symbols_list[num_vars//2:] \n",
    "            sol = sp.solve(prefactor*generators[i]*symbolic_eigenstates[k]+rhs ,symbols,dict=True)[0]\n",
    "            sols.append(sol)\n",
    "        J = reassemble_mat_from_sols(D,sols)\n",
    "        generators[i] = J.applyfunc(sp.nsimplify) \n",
    "    \n",
    "    return generators + [J3]"
   ]
  },
  {
   "cell_type": "code",
   "execution_count": 8,
   "metadata": {},
   "outputs": [
    {
     "data": {
      "text/plain": [
       "[Matrix([\n",
       " [0.0, 0.5],\n",
       " [0.5, 0.0]]),\n",
       " Matrix([\n",
       " [  0.0, -0.5*I],\n",
       " [0.5*I,    0.0]]),\n",
       " Matrix([\n",
       " [0.5,    0],\n",
       " [  0, -0.5]])]"
      ]
     },
     "execution_count": 8,
     "metadata": {},
     "output_type": "execute_result"
    }
   ],
   "source": [
    "form_matrix_irrep_so3(j=1/2)"
   ]
  },
  {
   "cell_type": "code",
   "execution_count": 9,
   "metadata": {},
   "outputs": [],
   "source": [
    "J1, J2, J3 = form_matrix_irrep_so3(j=1/2)"
   ]
  },
  {
   "cell_type": "code",
   "execution_count": 7,
   "metadata": {},
   "outputs": [
    {
     "data": {
      "text/latex": [
       "$\\displaystyle \\left[\\begin{matrix}0.0 & 0.5\\\\0.5 & 0.0\\end{matrix}\\right]$"
      ],
      "text/plain": [
       "Matrix([\n",
       "[0.0, 0.5],\n",
       "[0.5, 0.0]])"
      ]
     },
     "execution_count": 7,
     "metadata": {},
     "output_type": "execute_result"
    }
   ],
   "source": [
    "J1"
   ]
  },
  {
   "cell_type": "code",
   "execution_count": 8,
   "metadata": {},
   "outputs": [
    {
     "data": {
      "text/latex": [
       "$\\displaystyle \\left[\\begin{matrix}0.0 & - 0.5 i\\\\0.5 i & 0.0\\end{matrix}\\right]$"
      ],
      "text/plain": [
       "Matrix([\n",
       "[  0.0, -0.5*I],\n",
       "[0.5*I,    0.0]])"
      ]
     },
     "execution_count": 8,
     "metadata": {},
     "output_type": "execute_result"
    }
   ],
   "source": [
    "J2"
   ]
  },
  {
   "cell_type": "code",
   "execution_count": 9,
   "metadata": {},
   "outputs": [
    {
     "data": {
      "text/latex": [
       "$\\displaystyle \\left[\\begin{matrix}0.5 & 0\\\\0 & -0.5\\end{matrix}\\right]$"
      ],
      "text/plain": [
       "Matrix([\n",
       "[0.5,    0],\n",
       "[  0, -0.5]])"
      ]
     },
     "execution_count": 9,
     "metadata": {},
     "output_type": "execute_result"
    }
   ],
   "source": [
    "J3"
   ]
  },
  {
   "cell_type": "code",
   "execution_count": 10,
   "metadata": {},
   "outputs": [],
   "source": [
    "J1, J2, J3 = form_matrix_irrep_so3(j=1)"
   ]
  },
  {
   "cell_type": "code",
   "execution_count": 10,
   "metadata": {},
   "outputs": [
    {
     "data": {
      "text/latex": [
       "$\\displaystyle \\left[\\begin{matrix}0.0 & 0.707106781186545 & 0.0\\\\0.707106781186545 & 0.0 & 0.707106781186545\\\\0.0 & 0.707106781186545 & 0.0\\end{matrix}\\right]$"
      ],
      "text/plain": [
       "Matrix([\n",
       "[              0.0, 0.707106781186545,               0.0],\n",
       "[0.707106781186545,               0.0, 0.707106781186545],\n",
       "[              0.0, 0.707106781186545,               0.0]])"
      ]
     },
     "execution_count": 10,
     "metadata": {},
     "output_type": "execute_result"
    }
   ],
   "source": [
    "J1"
   ]
  },
  {
   "cell_type": "markdown",
   "metadata": {},
   "source": []
  },
  {
   "cell_type": "code",
   "execution_count": 13,
   "metadata": {},
   "outputs": [
    {
     "data": {
      "text/latex": [
       "$\\displaystyle \\left[\\begin{matrix}0.0 & - 0.5 i\\\\0.5 i & 0.0\\end{matrix}\\right]$"
      ],
      "text/plain": [
       "Matrix([\n",
       "[  0.0, -0.5*I],\n",
       "[0.5*I,    0.0]])"
      ]
     },
     "execution_count": 13,
     "metadata": {},
     "output_type": "execute_result"
    }
   ],
   "source": [
    "sp.nsimplify(J2)"
   ]
  },
  {
   "cell_type": "code",
   "execution_count": 12,
   "metadata": {},
   "outputs": [
    {
     "data": {
      "text/latex": [
       "$\\displaystyle \\left[\\begin{matrix}1.0 & 0 & 0\\\\0 & 0 & 0\\\\0 & 0 & -1.0\\end{matrix}\\right]$"
      ],
      "text/plain": [
       "Matrix([\n",
       "[1.0, 0,    0],\n",
       "[  0, 0,    0],\n",
       "[  0, 0, -1.0]])"
      ]
     },
     "execution_count": 12,
     "metadata": {},
     "output_type": "execute_result"
    }
   ],
   "source": [
    "J3"
   ]
  },
  {
   "cell_type": "code",
   "execution_count": 20,
   "metadata": {},
   "outputs": [],
   "source": [
    "J1, J2, J3 = form_matrix_irrep_so3(j=3/2)"
   ]
  },
  {
   "cell_type": "code",
   "execution_count": 21,
   "metadata": {},
   "outputs": [
    {
     "data": {
      "text/latex": [
       "$\\displaystyle \\left[\\begin{matrix}0 & \\frac{\\sqrt{3}}{2} & 0 & 0\\\\\\frac{\\sqrt{3}}{2} & 0 & 1 & 0\\\\0 & 1 & 0 & \\frac{\\sqrt{3}}{2}\\\\0 & 0 & \\frac{\\sqrt{3}}{2} & 0\\end{matrix}\\right]$"
      ],
      "text/plain": [
       "Matrix([\n",
       "[        0, sqrt(3)/2,         0,         0],\n",
       "[sqrt(3)/2,         0,         1,         0],\n",
       "[        0,         1,         0, sqrt(3)/2],\n",
       "[        0,         0, sqrt(3)/2,         0]])"
      ]
     },
     "execution_count": 21,
     "metadata": {},
     "output_type": "execute_result"
    }
   ],
   "source": [
    "M_rational = J1.applyfunc(sp.nsimplify)\n",
    "M_rational"
   ]
  },
  {
   "cell_type": "code",
   "execution_count": 19,
   "metadata": {},
   "outputs": [
    {
     "data": {
      "text/latex": [
       "$\\displaystyle \\left[\\begin{matrix}0 & - \\frac{i}{2}\\\\\\frac{i}{2} & 0\\end{matrix}\\right]$"
      ],
      "text/plain": [
       "Matrix([\n",
       "[  0, -I/2],\n",
       "[I/2,    0]])"
      ]
     },
     "execution_count": 19,
     "metadata": {},
     "output_type": "execute_result"
    }
   ],
   "source": [
    "J2.applyfunc(sp.nsimplify)"
   ]
  },
  {
   "cell_type": "code",
   "execution_count": 16,
   "metadata": {},
   "outputs": [
    {
     "data": {
      "text/latex": [
       "$\\displaystyle \\left[\\begin{matrix}1.5 & 0 & 0 & 0\\\\0 & 0.5 & 0 & 0\\\\0 & 0 & -0.5 & 0\\\\0 & 0 & 0 & -1.5\\end{matrix}\\right]$"
      ],
      "text/plain": [
       "Matrix([\n",
       "[1.5,   0,    0,    0],\n",
       "[  0, 0.5,    0,    0],\n",
       "[  0,   0, -0.5,    0],\n",
       "[  0,   0,    0, -1.5]])"
      ]
     },
     "execution_count": 16,
     "metadata": {},
     "output_type": "execute_result"
    }
   ],
   "source": [
    "J3"
   ]
  },
  {
   "cell_type": "code",
   "execution_count": null,
   "metadata": {},
   "outputs": [
    {
     "data": {
      "text/plain": [
       "np.float64(0.8660254037844386)"
      ]
     },
     "execution_count": 298,
     "metadata": {},
     "output_type": "execute_result"
    }
   ],
   "source": []
  },
  {
   "cell_type": "code",
   "execution_count": null,
   "metadata": {},
   "outputs": [],
   "source": [
    "σx,σy, σz = J1/2, J2/2, J3/2"
   ]
  },
  {
   "cell_type": "code",
   "execution_count": 12,
   "metadata": {},
   "outputs": [],
   "source": [
    "n1,n2, n3 = sp.symbols('n1 n2 n3')"
   ]
  },
  {
   "cell_type": "code",
   "execution_count": 13,
   "metadata": {},
   "outputs": [],
   "source": [
    "H = σx*n1+σy*n2+σz*n3"
   ]
  },
  {
   "cell_type": "code",
   "execution_count": 14,
   "metadata": {},
   "outputs": [
    {
     "data": {
      "text/latex": [
       "$\\displaystyle \\left[\\begin{matrix}0.5 n_{3} & 0.353553390593273 n_{1} - 0.353553390593273 i n_{2} & 0\\\\0.353553390593273 n_{1} + 0.353553390593273 i n_{2} & 0 & 0.353553390593273 n_{1} - 0.353553390593273 i n_{2}\\\\0 & 0.353553390593273 n_{1} + 0.353553390593273 i n_{2} & - 0.5 n_{3}\\end{matrix}\\right]$"
      ],
      "text/plain": [
       "Matrix([\n",
       "[                                       0.5*n3, 0.353553390593273*n1 - 0.353553390593273*I*n2,                                             0],\n",
       "[0.353553390593273*n1 + 0.353553390593273*I*n2,                                             0, 0.353553390593273*n1 - 0.353553390593273*I*n2],\n",
       "[                                            0, 0.353553390593273*n1 + 0.353553390593273*I*n2,                                       -0.5*n3]])"
      ]
     },
     "execution_count": 14,
     "metadata": {},
     "output_type": "execute_result"
    }
   ],
   "source": [
    "H"
   ]
  },
  {
   "cell_type": "code",
   "execution_count": 18,
   "metadata": {},
   "outputs": [
    {
     "data": {
      "text/plain": [
       "[(0,\n",
       "  1,\n",
       "  [Matrix([\n",
       "   [                                            (-n1 + I*n2)/(n1 + I*n2)],\n",
       "   [500000000000000.0*n3/(353553390593273.0*n1 + 353553390593273.0*I*n2)],\n",
       "   [                                                                 1.0]])]),\n",
       " (-0.5*(0.999999999999996*n1**2 + 0.999999999999996*n2**2 + n3**2)**0.5,\n",
       "  1,\n",
       "  [Matrix([\n",
       "   [-2.5e+29*n3*(0.999999999999996*n1**2 + 0.999999999999996*n2**2 + n3**2)**0.5/(1.24999999999999e+29*n1**2 + 2.49999999999999e+29*I*n1*n2 - 1.24999999999999e+29*n2**2) + (1.24999999999999e+29*n1**2 + 1.24999999999999e+29*n2**2 + 2.5e+29*n3**2)/(1.24999999999999e+29*n1**2 + 2.49999999999999e+29*I*n1*n2 - 1.24999999999999e+29*n2**2)],\n",
       "   [                                                                                                                                 500000000000000.0*n3/(353553390593273.0*n1 + 353553390593273.0*I*n2) - 500000000000000.0*(0.999999999999996*n1**2 + 0.999999999999996*n2**2 + n3**2)**0.5/(353553390593273.0*n1 + 353553390593273.0*I*n2)],\n",
       "   [                                                                                                                                                                                                                                                                                                                                       1.0]])]),\n",
       " (0.5*(0.999999999999996*n1**2 + 0.999999999999996*n2**2 + n3**2)**0.5,\n",
       "  1,\n",
       "  [Matrix([\n",
       "   [2.5e+29*n3*(0.999999999999996*n1**2 + 0.999999999999996*n2**2 + n3**2)**0.5/(1.24999999999999e+29*n1**2 + 2.49999999999999e+29*I*n1*n2 - 1.24999999999999e+29*n2**2) + (1.24999999999999e+29*n1**2 + 1.24999999999999e+29*n2**2 + 2.5e+29*n3**2)/(1.24999999999999e+29*n1**2 + 2.49999999999999e+29*I*n1*n2 - 1.24999999999999e+29*n2**2)],\n",
       "   [                                                                                                                                500000000000000.0*n3/(353553390593273.0*n1 + 353553390593273.0*I*n2) + 500000000000000.0*(0.999999999999996*n1**2 + 0.999999999999996*n2**2 + n3**2)**0.5/(353553390593273.0*n1 + 353553390593273.0*I*n2)],\n",
       "   [                                                                                                                                                                                                                                                                                                                                      1.0]])])]"
      ]
     },
     "execution_count": 18,
     "metadata": {},
     "output_type": "execute_result"
    }
   ],
   "source": [
    "H.eigenvects()"
   ]
  },
  {
   "cell_type": "code",
   "execution_count": 1,
   "metadata": {},
   "outputs": [
    {
     "data": {
      "text/plain": [
       "175870018662.86093"
      ]
     },
     "execution_count": 1,
     "metadata": {},
     "output_type": "execute_result"
    }
   ],
   "source": [
    "1 * 1.602e-19/9.109e-31"
   ]
  },
  {
   "cell_type": "code",
   "execution_count": 3,
   "metadata": {},
   "outputs": [
    {
     "data": {
      "text/plain": [
       "14012738853.503183"
      ]
     },
     "execution_count": 3,
     "metadata": {},
     "output_type": "execute_result"
    }
   ],
   "source": [
    "8.8e10/(2*3.14)"
   ]
  },
  {
   "cell_type": "code",
   "execution_count": 5,
   "metadata": {},
   "outputs": [
    {
     "data": {
      "text/plain": [
       "28025477707.006367"
      ]
     },
     "execution_count": 5,
     "metadata": {},
     "output_type": "execute_result"
    }
   ],
   "source": [
    "1.76e11/(6.28)"
   ]
  },
  {
   "cell_type": "code",
   "execution_count": null,
   "metadata": {},
   "outputs": [],
   "source": []
  }
 ],
 "metadata": {
  "kernelspec": {
   "display_name": ".sandbox",
   "language": "python",
   "name": "python3"
  },
  "language_info": {
   "codemirror_mode": {
    "name": "ipython",
    "version": 3
   },
   "file_extension": ".py",
   "mimetype": "text/x-python",
   "name": "python",
   "nbconvert_exporter": "python",
   "pygments_lexer": "ipython3",
   "version": "3.12.3"
  }
 },
 "nbformat": 4,
 "nbformat_minor": 2
}
